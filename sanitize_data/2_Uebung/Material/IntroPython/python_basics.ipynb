{
 "cells": [
  {
   "cell_type": "markdown",
   "metadata": {},
   "source": [
    "# Einführung in Python\n",
    "\n",
    "## Variablen"
   ]
  },
  {
   "cell_type": "markdown",
   "metadata": {},
   "source": [
    "Python besitzt keine strenge Typisierung, Variablen können also jeden beliebigen Wert annehmen.\n",
    "Bei Operationen müssen Datentypen aber zusammenpassen"
   ]
  },
  {
   "cell_type": "code",
   "execution_count": 1,
   "metadata": {},
   "outputs": [
    {
     "name": "stdout",
     "output_type": "stream",
     "text": [
      "0\n",
      "1\n",
      "2\n",
      "3\n",
      "4\n"
     ]
    }
   ],
   "source": [
    "a=5\n",
    "if (a<10):\n",
    "   a=range(a)\n",
    "   for x in a:\n",
    "      print(x)"
   ]
  },
  {
   "cell_type": "markdown",
   "metadata": {},
   "source": [
    "## Strings\n",
    "\n",
    "Zeichenketten werden in Python mit \" \" oder ' ' gekennzeichnet, für mehrzeilige Strings nutzt man \"\"\" \"\"\""
   ]
  },
  {
   "cell_type": "code",
   "execution_count": 2,
   "metadata": {},
   "outputs": [
    {
     "name": "stdout",
     "output_type": "stream",
     "text": [
      "2\n",
      "fooo bar 10 fooobar10\n",
      "LOREM IPSUM POLOR SIT AMET,\n",
      "CONSECTETUR APIPISCING ELIT,\n",
      "SEP PO EIUSMOP TEMPOR INCIPIPUNT\n",
      "UT LABORE ET POLORE MAGNA ALIQUA.\n",
      "['0. Zeile: Lorem ipsum dolor sit amet,', 'consectetur adipiscing elit,', 'sed do eiusmod tempor incididunt', 'ut labore et dolore magna aliqua.']\n",
      "['0. Zeile: Lorem ipsum dolor sit amet,', '1. Zeile: consectetur adipiscing elit,', 'sed do eiusmod tempor incididunt', 'ut labore et dolore magna aliqua.']\n",
      "['0. Zeile: Lorem ipsum dolor sit amet,', '1. Zeile: consectetur adipiscing elit,', '2. Zeile: sed do eiusmod tempor incididunt', 'ut labore et dolore magna aliqua.']\n",
      "['0. Zeile: Lorem ipsum dolor sit amet,', '1. Zeile: consectetur adipiscing elit,', '2. Zeile: sed do eiusmod tempor incididunt', '3. Zeile: ut labore et dolore magna aliqua.']\n"
     ]
    }
   ],
   "source": [
    "a=\"fooo\"\n",
    "b='bar'\n",
    "c=str(10)\n",
    "print(len(c))\n",
    "print(a,b,c,a+b+c)\n",
    "d=\"\"\"Lorem ipsum dolor sit amet,\n",
    "consectetur adipiscing elit,\n",
    "sed do eiusmod tempor incididunt\n",
    "ut labore et dolore magna aliqua.\"\"\"\n",
    "print(d.replace(\"d\",\"p\").upper())\n",
    "e=d.split(\"\\n\")\n",
    "for i,s in enumerate(e):\n",
    "    e[i]=\"%i. Zeile: \"%i + e[i]\n",
    "    print(e)"
   ]
  },
  {
   "cell_type": "markdown",
   "metadata": {},
   "source": [
    "## Listen\n",
    "Listen sind ähnlich Arrays in anderen Sprachen, jedoch können die Elemente verschiedene Datentypen besitzen"
   ]
  },
  {
   "cell_type": "code",
   "execution_count": 3,
   "metadata": {},
   "outputs": [
    {
     "name": "stdout",
     "output_type": "stream",
     "text": [
      "[1, 2, 3, 4, 5, 6, 7, 8, 9]\n",
      "None\n",
      "6\n"
     ]
    },
    {
     "ename": "TypeError",
     "evalue": "'NoneType' object is not subscriptable",
     "output_type": "error",
     "traceback": [
      "\u001b[0;31m---------------------------------------------------------------------------\u001b[0m",
      "\u001b[0;31mTypeError\u001b[0m                                 Traceback (most recent call last)",
      "\u001b[0;32m<ipython-input-3-a3d55ee466ea>\u001b[0m in \u001b[0;36m<module>\u001b[0;34m\u001b[0m\n\u001b[1;32m      8\u001b[0m \u001b[0mprint\u001b[0m\u001b[0;34m(\u001b[0m\u001b[0md\u001b[0m\u001b[0;34m)\u001b[0m            \u001b[0;31m#=???\u001b[0m\u001b[0;34m\u001b[0m\u001b[0;34m\u001b[0m\u001b[0m\n\u001b[1;32m      9\u001b[0m \u001b[0mprint\u001b[0m\u001b[0;34m(\u001b[0m\u001b[0mc\u001b[0m\u001b[0;34m[\u001b[0m\u001b[0;36m5\u001b[0m\u001b[0;34m]\u001b[0m\u001b[0;34m)\u001b[0m         \u001b[0;31m#=???\u001b[0m\u001b[0;34m\u001b[0m\u001b[0;34m\u001b[0m\u001b[0m\n\u001b[0;32m---> 10\u001b[0;31m \u001b[0mprint\u001b[0m\u001b[0;34m(\u001b[0m\u001b[0md\u001b[0m\u001b[0;34m[\u001b[0m\u001b[0;36m5\u001b[0m\u001b[0;34m]\u001b[0m\u001b[0;34m)\u001b[0m         \u001b[0;31m#=???\u001b[0m\u001b[0;34m\u001b[0m\u001b[0;34m\u001b[0m\u001b[0m\n\u001b[0m",
      "\u001b[0;31mTypeError\u001b[0m: 'NoneType' object is not subscriptable"
     ]
    }
   ],
   "source": [
    "a=[]\n",
    "a=[1,2,3,4]\n",
    "a.append(5)\n",
    "b=list(range(6,10))\n",
    "c=a+b\n",
    "d=a.append(b)\n",
    "print(c)            #=???\n",
    "print(d)            #=???\n",
    "print(c[5])         #=???\n",
    "print(d[5])         #=???"
   ]
  },
  {
   "cell_type": "markdown",
   "metadata": {},
   "source": [
    "## Tupel \n",
    "Tupel sind sehr ähnlich Listen, jedoch mit einigen Unterschieden:  \n",
    "   - Unveränderbare Daten  \n",
    "   - Hashable  "
   ]
  },
  {
   "cell_type": "code",
   "execution_count": 4,
   "metadata": {},
   "outputs": [
    {
     "name": "stdout",
     "output_type": "stream",
     "text": [
      "('foo', 'bar')\n",
      "(1, 2, 'asd', 1, 2, 'asd', 1, 2, 'asd')\n",
      "(1, 2, 3, 4, 5)\n",
      "('foo', 'bar', 1, 2, 'asd', 1, 2, 'asd', 1, 2, 'asd')\n",
      "1\n"
     ]
    },
    {
     "ename": "TypeError",
     "evalue": "'tuple' object does not support item assignment",
     "output_type": "error",
     "traceback": [
      "\u001b[0;31m---------------------------------------------------------------------------\u001b[0m",
      "\u001b[0;31mTypeError\u001b[0m                                 Traceback (most recent call last)",
      "\u001b[0;32m<ipython-input-4-0f7ea7063c03>\u001b[0m in \u001b[0;36m<module>\u001b[0;34m\u001b[0m\n\u001b[1;32m     11\u001b[0m \u001b[0mprint\u001b[0m\u001b[0;34m(\u001b[0m\u001b[0md\u001b[0m\u001b[0;34m)\u001b[0m\u001b[0;34m\u001b[0m\u001b[0;34m\u001b[0m\u001b[0m\n\u001b[1;32m     12\u001b[0m \u001b[0mprint\u001b[0m\u001b[0;34m(\u001b[0m\u001b[0me\u001b[0m\u001b[0;34m[\u001b[0m\u001b[0;36m4\u001b[0m\u001b[0;34m]\u001b[0m\u001b[0;34m)\u001b[0m\u001b[0;34m\u001b[0m\u001b[0;34m\u001b[0m\u001b[0m\n\u001b[0;32m---> 13\u001b[0;31m \u001b[0me\u001b[0m\u001b[0;34m[\u001b[0m\u001b[0;36m4\u001b[0m\u001b[0;34m]\u001b[0m\u001b[0;34m=\u001b[0m\u001b[0;36m10\u001b[0m\u001b[0;34m\u001b[0m\u001b[0;34m\u001b[0m\u001b[0m\n\u001b[0m",
      "\u001b[0;31mTypeError\u001b[0m: 'tuple' object does not support item assignment"
     ]
    }
   ],
   "source": [
    "a=()\n",
    "a=a+('foo','bar')\n",
    "b=(1,2,'asd')*3\n",
    "c=tuple([1,2,3,4,5])\n",
    "print(a)\n",
    "print(b)\n",
    "print(c)\n",
    "d=a+b\n",
    "e=('e',)\n",
    "e+=b\n",
    "print(d)\n",
    "print(e[4])\n",
    "e[4]=10"
   ]
  },
  {
   "cell_type": "markdown",
   "metadata": {},
   "source": [
    " \\frametitle{Dictionaries}\n",
    " In einem Dictionary könne verschiedene Daten gespeichert werden\n",
    " \\begin{itemize}\n",
    "  \\item Key-Value-Paare\n",
    "  \\item Zugriff über Identifier\n"
   ]
  },
  {
   "cell_type": "code",
   "execution_count": 5,
   "metadata": {},
   "outputs": [
    {
     "name": "stdout",
     "output_type": "stream",
     "text": [
      "[1, 2, 3]\n",
      "0 foo 2\n",
      "1 bar [1, 2, 3]\n"
     ]
    }
   ],
   "source": [
    "a={'foo':2,'bar':[1,2,3]}\n",
    "print(a['bar'])\n",
    "for i,k in enumerate(a.keys()):\n",
    "    print(i,k,a[k])"
   ]
  },
  {
   "cell_type": "markdown",
   "metadata": {},
   "source": [
    "## Klassen"
   ]
  },
  {
   "cell_type": "code",
   "execution_count": 6,
   "metadata": {},
   "outputs": [],
   "source": [
    "class A:\n",
    "    __semiPrivateVar = 27\n",
    "    \n",
    "    def __init__(self,_a):\n",
    "        self.a=_a\n",
    "        \n",
    "    def getPrivate(self):\n",
    "        return self.__semiPrivateVar\n",
    "        \n",
    "    def doStuff(self,b):\n",
    "        if (self.a<b):\n",
    "            return -1\n",
    "        elif (self.a==b):\n",
    "            return 0\n",
    "        else:\n",
    "            return 1"
   ]
  },
  {
   "cell_type": "code",
   "execution_count": 7,
   "metadata": {},
   "outputs": [
    {
     "name": "stdout",
     "output_type": "stream",
     "text": [
      "27\n",
      "1\n"
     ]
    }
   ],
   "source": [
    "myobject = A(5)\n",
    "print(myobject.getPrivate())\n",
    "print(myobject.doStuff(4))"
   ]
  },
  {
   "cell_type": "markdown",
   "metadata": {},
   "source": [
    "## Arbeiten mit Dateien"
   ]
  },
  {
   "cell_type": "code",
   "execution_count": 8,
   "metadata": {},
   "outputs": [],
   "source": [
    "with open(\"fileIn.txt\",\"r\") as fileIn:\n",
    "    with open(\"fileOut.txt\",\"w\") as fileOut:\n",
    "        for i,line in enumerate(fileIn):\n",
    "            fileOut.write(\"%i. Zeile: \"%(i+1) + line )"
   ]
  },
  {
   "cell_type": "markdown",
   "metadata": {},
   "source": [
    "# Modules\n",
    "\n",
    "## Imports\n",
    "\n",
    "`import sys`  \n",
    "`import numpy as np`\n",
    "\n",
    "sys -> Verwendung mit `sys.funktionsname()`    \n",
    "numpy -> Alias np -> `Verwendung mit np.funktion()`  \n",
    "\n"
   ]
  },
  {
   "cell_type": "markdown",
   "metadata": {},
   "source": [
    "## Numpy und Scipy\n",
    "\n",
    "Vektoren und Matritzen gibt es in Python nicht, nur Listen;   \n",
    "Standard Matrix und Vektor Operationen (Addition, Multiplikation, etc.) werden nicht unterstützt  \n",
    "  \n",
    "Dafür gibt es Numerical Python (Numpy)  \n",
    "Hauptobjekt von Numpy ist `ndarray`  \n",
    "- Mehrdimensionales Array \n",
    "- Kann nur einen Datentyp haben\n",
    "- Attribute:\n",
    "- `ndarray.ndim` Dimensionen\n",
    "- `ndarray.shape` Form\n",
    "- `ndarray.size` Anzahl der Elemente\n",
    "- `ndarray.dtype` Datentyp \n",
    "- `ndarray.data` Speicherbereich\n"
   ]
  },
  {
   "cell_type": "code",
   "execution_count": 9,
   "metadata": {},
   "outputs": [
    {
     "name": "stdout",
     "output_type": "stream",
     "text": [
      "[0.1, 0.2, 0.3, 0.4, 0.5, 0.1, 0.2, 0.3, 0.4, 0.5]\n",
      "[0.1, 0.2, 0.3, 0.4, 0.5, 0.1, 0.2, 0.3, 0.4, 0.5]\n"
     ]
    },
    {
     "ename": "TypeError",
     "evalue": "can't multiply sequence by non-int of type 'list'",
     "output_type": "error",
     "traceback": [
      "\u001b[0;31m---------------------------------------------------------------------------\u001b[0m",
      "\u001b[0;31mTypeError\u001b[0m                                 Traceback (most recent call last)",
      "\u001b[0;32m<ipython-input-9-c12481b13661>\u001b[0m in \u001b[0;36m<module>\u001b[0;34m\u001b[0m\n\u001b[1;32m      5\u001b[0m \u001b[0mc\u001b[0m\u001b[0;34m=\u001b[0m\u001b[0;36m2\u001b[0m\u001b[0;34m*\u001b[0m\u001b[0ma\u001b[0m \u001b[0;31m#=???\u001b[0m\u001b[0;34m\u001b[0m\u001b[0;34m\u001b[0m\u001b[0m\n\u001b[1;32m      6\u001b[0m \u001b[0mprint\u001b[0m\u001b[0;34m(\u001b[0m\u001b[0mc\u001b[0m\u001b[0;34m)\u001b[0m\u001b[0;34m\u001b[0m\u001b[0;34m\u001b[0m\u001b[0m\n\u001b[0;32m----> 7\u001b[0;31m \u001b[0md\u001b[0m\u001b[0;34m=\u001b[0m\u001b[0ma\u001b[0m\u001b[0;34m*\u001b[0m\u001b[0mb\u001b[0m \u001b[0;31m#=???\u001b[0m\u001b[0;34m\u001b[0m\u001b[0;34m\u001b[0m\u001b[0m\n\u001b[0m\u001b[1;32m      8\u001b[0m \u001b[0mprint\u001b[0m\u001b[0;34m(\u001b[0m\u001b[0md\u001b[0m\u001b[0;34m)\u001b[0m\u001b[0;34m\u001b[0m\u001b[0;34m\u001b[0m\u001b[0m\n",
      "\u001b[0;31mTypeError\u001b[0m: can't multiply sequence by non-int of type 'list'"
     ]
    }
   ],
   "source": [
    "a=[0.1,0.2,0.3,0.4,0.5]\n",
    "b=a\n",
    "b=a+b #=???\n",
    "print(b)\n",
    "c=2*a #=???\n",
    "print(c)\n",
    "d=a*b #=???\n",
    "print(d)"
   ]
  },
  {
   "cell_type": "code",
   "execution_count": 10,
   "metadata": {
    "scrolled": true
   },
   "outputs": [
    {
     "name": "stdout",
     "output_type": "stream",
     "text": [
      "[0.2 0.4 0.6 0.8 1. ]\n",
      "[0.2 0.4 0.6 0.8 1. ]\n",
      "[0.01 0.04 0.09 0.16 0.25]\n",
      "0.55\n"
     ]
    }
   ],
   "source": [
    "import numpy as np\n",
    "a=np.array([0.1,0.2,0.3,0.4,0.5])\n",
    "b=0.1*np.arange(1,6)\n",
    "print(a+b) #=???\n",
    "print(2*a) #=???\n",
    "print(a*b) #=???\n",
    "print(np.dot(a,b)) #=???"
   ]
  },
  {
   "cell_type": "code",
   "execution_count": null,
   "metadata": {},
   "outputs": [],
   "source": []
  },
  {
   "cell_type": "code",
   "execution_count": null,
   "metadata": {},
   "outputs": [],
   "source": []
  }
 ],
 "metadata": {
  "kernelspec": {
   "display_name": "Python 3",
   "language": "python",
   "name": "python3"
  },
  "language_info": {
   "codemirror_mode": {
    "name": "ipython",
    "version": 3
   },
   "file_extension": ".py",
   "mimetype": "text/x-python",
   "name": "python",
   "nbconvert_exporter": "python",
   "pygments_lexer": "ipython3",
   "version": "3.7.3"
  }
 },
 "nbformat": 4,
 "nbformat_minor": 2
}
