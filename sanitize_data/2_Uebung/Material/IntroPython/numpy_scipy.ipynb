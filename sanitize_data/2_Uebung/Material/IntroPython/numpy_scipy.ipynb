{
 "cells": [
  {
   "cell_type": "markdown",
   "metadata": {},
   "source": [
    "# Einführung in Python mit JupyterLab\n",
    "Dies ist eine Einführung in Python und Numpy/ Scipy"
   ]
  },
  {
   "cell_type": "code",
   "execution_count": 1,
   "metadata": {},
   "outputs": [
    {
     "name": "stdout",
     "output_type": "stream",
     "text": [
      "foo bar 10 foobar10\n"
     ]
    }
   ],
   "source": [
    "a=\"foo\"\n",
    "b=\"bar\"\n",
    "c=str(10)\n",
    "print(a,b,c,a+b+c)"
   ]
  },
  {
   "cell_type": "code",
   "execution_count": 2,
   "metadata": {},
   "outputs": [
    {
     "name": "stdout",
     "output_type": "stream",
     "text": [
      "[1, 2, 3, 4, 5, 6, 7, 8, 9]\n",
      "[1, 2, 3, 4, 5, [6, 7, 8, 9]]\n",
      "6\n",
      "[6, 7, 8, 9]\n"
     ]
    }
   ],
   "source": [
    "a=[1,2,3,4,5]\n",
    "b=list(range(6,10))\n",
    "c=a+b\n",
    "a.append(b)\n",
    "print(c)\n",
    "print(a)\n",
    "print(c[5])\n",
    "print(a[5])"
   ]
  },
  {
   "cell_type": "markdown",
   "metadata": {},
   "source": [
    "# Modules\n",
    "\n",
    "## Imports\n",
    "\n",
    "`import sys`  \n",
    "`import numpy as np`\n",
    "\n",
    "sys -> Verwendung mit `sys.funktionsname()`    \n",
    "numpy -> Alias np -> `Verwendung mit np.funktion()`  \n",
    "\n",
    "## Numpy und Scipy\n",
    "\n",
    "Vektoren und Matritzen gibt es in Python nicht, nur Listen;   \n",
    "Standard Matrix und Vektor Operationen (Addition, Multiplikation, etc.) werden nicht unterstützt  \n",
    "  \n",
    "Dafür gibt es Numerical Python (Numpy)  \n",
    "Hauptobjekt von Numpy ist `ndarray`  \n",
    "- Mehrdimensionales Array \n",
    "- Kann nur einen Datentyp haben\n",
    "- Attribute:\n",
    "- `ndarray.ndim` Dimensionen\n",
    "- `ndarray.shape` Form\n",
    "- `ndarray.size` Anzahl der Elemente\n",
    "- `ndarray.dtype` Datentyp \n",
    "- `ndarray.data` Speicherbereich\n"
   ]
  },
  {
   "cell_type": "code",
   "execution_count": 3,
   "metadata": {},
   "outputs": [
    {
     "name": "stdout",
     "output_type": "stream",
     "text": [
      "[0.1, 0.2, 0.3, 0.4, 0.5, 0.1, 0.2, 0.3, 0.4, 0.5]\n",
      "[0.1, 0.2, 0.3, 0.4, 0.5, 0.1, 0.2, 0.3, 0.4, 0.5]\n"
     ]
    },
    {
     "ename": "TypeError",
     "evalue": "can't multiply sequence by non-int of type 'list'",
     "output_type": "error",
     "traceback": [
      "\u001b[0;31m---------------------------------------------------------------------------\u001b[0m",
      "\u001b[0;31mTypeError\u001b[0m                                 Traceback (most recent call last)",
      "\u001b[0;32m<ipython-input-3-e6604a3ae8df>\u001b[0m in \u001b[0;36m<module>\u001b[0;34m\u001b[0m\n\u001b[1;32m      5\u001b[0m \u001b[0md\u001b[0m\u001b[0;34m=\u001b[0m\u001b[0;36m2\u001b[0m\u001b[0;34m*\u001b[0m\u001b[0ma\u001b[0m\u001b[0;34m\u001b[0m\u001b[0;34m\u001b[0m\u001b[0m\n\u001b[1;32m      6\u001b[0m \u001b[0mprint\u001b[0m\u001b[0;34m(\u001b[0m\u001b[0md\u001b[0m\u001b[0;34m)\u001b[0m\u001b[0;34m\u001b[0m\u001b[0;34m\u001b[0m\u001b[0m\n\u001b[0;32m----> 7\u001b[0;31m \u001b[0me\u001b[0m\u001b[0;34m=\u001b[0m\u001b[0ma\u001b[0m\u001b[0;34m*\u001b[0m\u001b[0mb\u001b[0m\u001b[0;34m\u001b[0m\u001b[0;34m\u001b[0m\u001b[0m\n\u001b[0m\u001b[1;32m      8\u001b[0m \u001b[0mprint\u001b[0m\u001b[0;34m(\u001b[0m\u001b[0me\u001b[0m\u001b[0;34m)\u001b[0m\u001b[0;34m\u001b[0m\u001b[0;34m\u001b[0m\u001b[0m\n",
      "\u001b[0;31mTypeError\u001b[0m: can't multiply sequence by non-int of type 'list'"
     ]
    }
   ],
   "source": [
    "a=[0.1,0.2,0.3,0.4,0.5]\n",
    "b=a\n",
    "c=a+b\n",
    "print(c)\n",
    "d=2*a\n",
    "print(d)\n",
    "e=a*b\n",
    "print(e)"
   ]
  },
  {
   "cell_type": "code",
   "execution_count": 4,
   "metadata": {},
   "outputs": [
    {
     "name": "stdout",
     "output_type": "stream",
     "text": [
      "[0.1 0.2 0.3 0.4 0.5]\n",
      "[0.2 0.4 0.6 0.8 1. ]\n",
      "[0.2 0.4 0.6 0.8 1. ]\n",
      "[0.01 0.04 0.09 0.16 0.25]\n",
      "0.55\n"
     ]
    }
   ],
   "source": [
    "import numpy as np\n",
    "a=0.1*np.arange(1,6)\n",
    "print(a)\n",
    "b=np.array([0.1,0.2,0.3,0.4,0.5])\n",
    "c=a+b\n",
    "d=2*a\n",
    "e=a*b\n",
    "f=np.dot(a,a)\n",
    "print(c)\n",
    "print(d)\n",
    "print(e)\n",
    "print(f)"
   ]
  },
  {
   "cell_type": "code",
   "execution_count": 5,
   "metadata": {},
   "outputs": [
    {
     "name": "stdout",
     "output_type": "stream",
     "text": [
      "(2, 3)\n",
      "2\n",
      "6\n",
      "int64\n",
      "<memory at 0x7ff7040577e0>\n"
     ]
    }
   ],
   "source": [
    "import numpy as np\n",
    "A=np.array([1,2,3,4,5,6]).reshape((2,3))\n",
    "print(A.shape)\n",
    "print(A.ndim)\n",
    "print(A.size)\n",
    "print(A.dtype)\n",
    "print(A.data)"
   ]
  },
  {
   "cell_type": "markdown",
   "metadata": {},
   "source": [
    "Beispiel Matrix und Vektoren erzeugen"
   ]
  },
  {
   "cell_type": "code",
   "execution_count": 6,
   "metadata": {},
   "outputs": [
    {
     "name": "stdout",
     "output_type": "stream",
     "text": [
      "A= [[0.  0.1 0.2 0.3 0.4]\n",
      " [0.5 0.6 0.7 0.8 0.9]\n",
      " [1.  1.1 1.2 1.3 1.4]] \n",
      "B= [[ 1.  2.  3.  4.  5.]\n",
      " [ 6.  7.  8.  9. 10.]] \n",
      "x= [2.  2.2 2.4 2.6 2.8]\n",
      "c= [ 2.6  8.6 14.6]\n"
     ]
    },
    {
     "data": {
      "text/plain": [
       "array([2.8, 2.6, 2.4, 2.2, 2. ])"
      ]
     },
     "execution_count": 6,
     "metadata": {},
     "output_type": "execute_result"
    }
   ],
   "source": [
    "import numpy as np\n",
    "A=0.1*np.arange(15,dtype=np.float64).reshape((3,5))\n",
    "B=np.array([(1,2,3,4,5),[6,7,8,9,10]],dtype=np.float64)\n",
    "C=np.zeros((3,5))\n",
    "D=0.5*np.ones((3,5))\n",
    "w=np.linspace(2,3,5)\n",
    "x=np.arange(2,3,0.2)\n",
    "y=np.array([1,2,3,4,5],dtype=np.float64)\n",
    "z=np.ones(5)\n",
    "print(\"A=\",A,\"\\nB=\",B,\"\\nx=\",x)\n",
    "c=np.dot(A,x)\n",
    "print(\"c=\",c)\n",
    "x[::-1]"
   ]
  },
  {
   "cell_type": "markdown",
   "metadata": {},
   "source": [
    "Array Operationen"
   ]
  },
  {
   "cell_type": "code",
   "execution_count": 7,
   "metadata": {},
   "outputs": [],
   "source": [
    "a=np.array([20,30,40,50])\n",
    "b=np.arange(4)\n",
    "c=a-b           #=???\n",
    "d=b**2          #=???\n",
    "e=10*np.sin(a)  #=???\n",
    "f=a<35          #=???\n",
    "g=np.exp(a)     #=???\n",
    "h=np.sqrt(b)    #=???"
   ]
  },
  {
   "cell_type": "markdown",
   "metadata": {},
   "source": [
    "## Numpy Arrays: Slicing, Indizierung, Itertierung\n",
    "\n",
    "1-Dimensional: verhalten sich wie list-Objekte  \n",
    "Mehrdimensionale Arrays haben einen Index pro Achse"
   ]
  },
  {
   "cell_type": "code",
   "execution_count": 8,
   "metadata": {},
   "outputs": [
    {
     "name": "stdout",
     "output_type": "stream",
     "text": [
      "nan\n",
      "1.0\n",
      "nan\n",
      "3.0\n",
      "nan\n",
      "4.999999999999999\n",
      "5.999999999999999\n",
      "6.999999999999999\n",
      "7.999999999999999\n",
      "8.999999999999998\n"
     ]
    },
    {
     "name": "stderr",
     "output_type": "stream",
     "text": [
      "/home/bqpd/anaconda3/lib/python3.7/site-packages/ipykernel_launcher.py:7: RuntimeWarning: invalid value encountered in power\n",
      "  import sys\n"
     ]
    }
   ],
   "source": [
    "a=np.arange(10)**3\n",
    "a[2]\n",
    "a[2:5]\n",
    "a[:6:2]=-1000\n",
    "a[::-1]\n",
    "for i in a:\n",
    "   print(i**(1/3))"
   ]
  },
  {
   "cell_type": "code",
   "execution_count": 9,
   "metadata": {},
   "outputs": [
    {
     "name": "stdout",
     "output_type": "stream",
     "text": [
      "[0 1 2 3 4 5 6 7 8 9]\n",
      "[10 11 12 13 14 15 16 17 18 19]\n",
      "[20 21 22 23 24 25 26 27 28 29]\n",
      "[30 31 32 33 34 35 36 37 38 39]\n",
      "[40 41 42 43 44 45 46 47 48 49]\n",
      "[50 51 52 53 54 55 56 57 58 59]\n",
      "[60 61 62 63 64 65 66 67 68 69]\n",
      "[70 71 72 73 74 75 76 77 78 79]\n",
      "[80 81 82 83 84 85 86 87 88 89]\n",
      "[90 91 92 93 94 95 96 97 98 99]\n"
     ]
    },
    {
     "data": {
      "text/plain": [
       "array([[ 0, 10, 20, 30, 40, 50, 60, 70, 80, 90],\n",
       "       [ 1, 11, 21, 31, 41, 51, 61, 71, 81, 91],\n",
       "       [ 2, 12, 22, 32, 42, 52, 62, 72, 82, 92],\n",
       "       [ 3, 13, 23, 33, 43, 53, 63, 73, 83, 93],\n",
       "       [ 4, 14, 24, 34, 44, 54, 64, 74, 84, 94],\n",
       "       [ 5, 15, 25, 35, 45, 55, 65, 75, 85, 95],\n",
       "       [ 6, 16, 26, 36, 46, 56, 66, 76, 86, 96],\n",
       "       [ 7, 17, 27, 37, 47, 57, 67, 77, 87, 97],\n",
       "       [ 8, 18, 28, 38, 48, 58, 68, 78, 88, 98],\n",
       "       [ 9, 19, 29, 39, 49, 59, 69, 79, 89, 99]])"
      ]
     },
     "execution_count": 9,
     "metadata": {},
     "output_type": "execute_result"
    }
   ],
   "source": [
    "b=np.arange(100).reshape((10,10))\n",
    "b[2,3]              #=???\n",
    "b[:,5]              #=???\n",
    "b[-1]               #=???\n",
    "c=b.reshape(2,5,10) #=???\n",
    "c.shape             #=???\n",
    "c[1,...]            #=???\n",
    "c[...,5]            #=???\n",
    "for row in b:   \n",
    "   print(row)       #=???\n",
    "b.ravel()           #=???\n",
    "b.T                 #=???"
   ]
  },
  {
   "cell_type": "code",
   "execution_count": 10,
   "metadata": {},
   "outputs": [
    {
     "name": "stdout",
     "output_type": "stream",
     "text": [
      "[1, 2, 3, 4, 5, 6, 7, 8, 9]\n",
      "[1, 2, 3, 4, 5, [6, 7, 8, 9]]\n",
      "6\n",
      "[6, 7, 8, 9]\n"
     ]
    }
   ],
   "source": [
    "a=[1,2,3,4,5]\n",
    "b=list(range(6,10))\n",
    "c=a+b\n",
    "a.append(b)\n",
    "print(c)\n",
    "print(a)\n",
    "print(c[5])\n",
    "print(a[5])"
   ]
  },
  {
   "cell_type": "code",
   "execution_count": 11,
   "metadata": {},
   "outputs": [
    {
     "name": "stdout",
     "output_type": "stream",
     "text": [
      "[ 1 11 21 31 41 51 61 71 81 91]\n",
      "[[[ 0  1  2  3  4  5  6  7  8  9]\n",
      "  [10 11 12 13 14 15 16 17 18 19]\n",
      "  [20 21 22 23 24 25 26 27 28 29]\n",
      "  [30 31 32 33 34 35 36 37 38 39]\n",
      "  [40 41 42 43 44 45 46 47 48 49]]\n",
      "\n",
      " [[50 51 52 53 54 55 56 57 58 59]\n",
      "  [60 61 62 63 64 65 66 67 68 69]\n",
      "  [70 71 72 73 74 75 76 77 78 79]\n",
      "  [80 81 82 83 84 85 86 87 88 89]\n",
      "  [90 91 92 93 94 95 96 97 98 99]]]\n",
      "[[50 51 52 53 54 55 56 57 58 59]\n",
      " [60 61 62 63 64 65 66 67 68 69]\n",
      " [70 71 72 73 74 75 76 77 78 79]\n",
      " [80 81 82 83 84 85 86 87 88 89]\n",
      " [90 91 92 93 94 95 96 97 98 99]]\n",
      "[[ 5 15 25 35 45]\n",
      " [55 65 75 85 95]]\n"
     ]
    }
   ],
   "source": [
    "b=np.arange(100).reshape((10,10))\n",
    "print(b[0:10,1])\n",
    "c=b.reshape(2,5,10)\n",
    "print(c)\n",
    "print(c[1,...])\n",
    "print(c[...,5])"
   ]
  },
  {
   "cell_type": "markdown",
   "metadata": {},
   "source": [
    "Numpy Arrays: Kopien und Ansichten"
   ]
  },
  {
   "cell_type": "code",
   "execution_count": 12,
   "metadata": {
    "scrolled": true
   },
   "outputs": [
    {
     "name": "stdout",
     "output_type": "stream",
     "text": [
      "True\n",
      "(3, 4)\n"
     ]
    }
   ],
   "source": [
    "a=np.arange(12)\n",
    "b=a               \n",
    "print(b is a)            #=???\n",
    "b.shape=3,4              #=???\n",
    "print(a.shape)           #=???"
   ]
  },
  {
   "cell_type": "markdown",
   "metadata": {},
   "source": [
    "Standardzuweisungen kopieren nichts!  \n",
    "Funktionen bekommen Referenz übergeben  "
   ]
  },
  {
   "cell_type": "code",
   "execution_count": 13,
   "metadata": {},
   "outputs": [
    {
     "name": "stdout",
     "output_type": "stream",
     "text": [
      "id(x):140698542515264\n",
      "140698542515264\n"
     ]
    }
   ],
   "source": [
    "def f(x):\n",
    "    print(id(x))\n",
    "print(\"id(x):\" + str(id(a)))             #=???\n",
    "f(a)              #=???"
   ]
  },
  {
   "cell_type": "markdown",
   "metadata": {},
   "source": [
    "## Numpy Arrays: Kopien und Ansichten  \n",
    "Ansichten `view` sind unterschiedliche Objekte mit gleichen Daten"
   ]
  },
  {
   "cell_type": "code",
   "execution_count": 14,
   "metadata": {},
   "outputs": [],
   "source": [
    "c=a.view()\n",
    "c is a\n",
    "c.base is a\n",
    "c.shape=2,6\n",
    "a.shape\n",
    "c[0,4]=1234       #a=???"
   ]
  },
  {
   "cell_type": "markdown",
   "metadata": {},
   "source": [
    "Tiefe Kopien von Arrays sorgen für komplett unabhängige Objekte  \n",
    "Manchmal ist `copy` auch besser für Speichernutzung"
   ]
  },
  {
   "cell_type": "code",
   "execution_count": 15,
   "metadata": {},
   "outputs": [],
   "source": [
    "d=a.copy()\n",
    "d is a\n",
    "d.base is a\n",
    "d[0,0]=9999       #a=???"
   ]
  },
  {
   "cell_type": "code",
   "execution_count": 16,
   "metadata": {},
   "outputs": [],
   "source": [
    "import numpy as np\n",
    "\n",
    "a=np.arange(int(1e8)) # großer Speicherblock\n",
    "b=a[:100].copy()      # nutze aber nur kleinen Teil davon\n",
    "del a # wenn b=a[:100], würde del a nicht wirken!"
   ]
  },
  {
   "cell_type": "markdown",
   "metadata": {},
   "source": [
    "## Scipy\n",
    "Scientific Python (SciPy) \n",
    "\n",
    "- Sammlung von mathematischen Algorithmen und convenience Funktionen\n",
    "- Baut auf Datentypen von NumPy\n",
    "- Python wird damit zu Datenverarbeitungs und System-Prototyping Umgebung ähnlich Matlab, IDL, Octave,..."
   ]
  },
  {
   "cell_type": "markdown",
   "metadata": {},
   "source": [
    "## Scipy Module\n",
    "\n",
    "- `optimize` -- Optimierung *\n",
    "- `linalg` -- Lineare Algebra *\n",
    "- `io` -- Ein- und Ausgabemodules *\n",
    "- `cluster` -- Clustering Algorithmen\n",
    "- `constants` -- Phys. und mathematische Konstantent\n",
    "- `fftpack` -- Schnelle Fourier Transformation\n",
    "- `integrate` -- Integrale und ODE Löser\n",
    "- `interpolate` -- Spline Interpolation\n",
    "- `ndimage` -- Bildverarbeitung\n",
    "- `signal` -- Signalverarbeitung\n",
    "- `sparse` -- Dünnbesetzte Matrizen\n",
    "- `stats` -- Statistik"
   ]
  },
  {
   "cell_type": "markdown",
   "metadata": {},
   "source": [
    "Optimierung mit scipy.optimize  \n",
    "SciPy `optimize` bietet Funktionen zur Minimierung (oder Maximierung) einer Zielfunktion mit Nebenbedingungen:  \n",
    "- Skalare Funktionsoptimierung `minimize_scalar`\n",
    "- Lokale Optimierung `minimize`\n",
    "- Globale Optimierung `basinhopping`, `brute`\n",
    "- Least-Squares `least_squares`,`nnls`\n",
    "- Root-Finding `root`\n",
    "- Lineare Programmierung `linprog`\n",
    "  \n",
    "  \n",
    "Beispiel: `scipy.optimize.minimize`\n",
    "\n",
    "Minimierung einer Skalaren Funktion mit einer oder mehreren Variablen: `scipy.optimize.minimize(fun, x0, args=(), method=None, jac=None, hess=None, hessp=None, bounds=None, constraints=(), tol=None, callback=None, options=None)`\n",
    " \n",
    "- `fun` -- Skalare Zielfunktion\n",
    "- `x0` -- Startvektor\n",
    "- `args` -- Zusätzliche Argumente an `fun`\n",
    "- `method` Die benutzte Optimierungsmethode (* default), z.B.:\n",
    "    - 'Nelder-Mead' -- Downhill-Simplex\n",
    "    - 'Newton-CG' -- Newton Konjugierte Gradienten\n",
    "    - 'BFGS' -- Broyden-Fletcher–Goldfarb-Shanno Verfahren *\n",
    "    - 'L-BFGS-B' -- Limited Memory BFGS Bounded *\n",
    "    - 'SLSQP' -- Sequential Least SQuares Programming (mit NB)*\n",
    "- `jac` -- Funktion zur Berechnung der 1. Ableitung\n",
    "- `constraints` -- Nebenbedingungen\n",
    "\n",
    "Minimiere\n",
    "$\n",
    " fun(x)=ax^3+bx^2+cx+d\n",
    "$ mit $a=2$, $b=3$, $c=-1$ und $d=5$ \n",
    "unter der NB $0=g(x)=2x^2-5$!"
   ]
  },
  {
   "cell_type": "code",
   "execution_count": 17,
   "metadata": {},
   "outputs": [
    {
     "name": "stdout",
     "output_type": "stream",
     "text": [
      "Optimization terminated successfully.    (Exit mode 0)\n",
      "            Current function value: 18.82455532033584\n",
      "            Iterations: 6\n",
      "            Function evaluations: 19\n",
      "            Gradient evaluations: 6\n",
      "x= [1.58113883]\n"
     ]
    }
   ],
   "source": [
    "import numpy as np\n",
    "import scipy.optimize as opt\n",
    "def fun(x,args):\n",
    "    [a,b,c,d]=args\n",
    "    return a*x**3+b*x**2+c*x+d\n",
    "\n",
    "def constraint(x):\n",
    "    return 2*x*x-5\n",
    "\n",
    "x0=0\n",
    "args=([2,3,-1,5])\n",
    "o=opt.minimize(fun,x0,args, method='SLSQP', \n",
    "constraints=[{'type':'ineq','fun':constraint}],\n",
    "options={'ftol': 1e-9,'disp': True})\n",
    "print(\"x=\",o.x)"
   ]
  },
  {
   "cell_type": "markdown",
   "metadata": {},
   "source": [
    "## Aufgabe: Rosenbrock-Funktion\n",
    "$fun(x)=\\sum_{i=1}^{N-1}\\left[b(x_{i+1}-x_i^2)^2+(a-x_i)^2\\right]$\n",
    "\n",
    "- Erstellen Sie eine neue Datei mit dem Namen `rosen.py`\n",
    "- Erstellen Sie in der Datei eine Klasse `rosen` mit den folgenden Methoden:\n",
    "    - Konstruktor mit Eingabe von a und b\n",
    "    - Funktionsauswertung `fun(x)`\n",
    "- Nutzen Sie die Klasse in einem Notebook um das Minimum der Rosenbrock-Funktion zu bestimmen\n",
    "- Welche Ausgaben bietet der Optimierer?\n"
   ]
  },
  {
   "cell_type": "markdown",
   "metadata": {},
   "source": [
    "Beispiel: Rosenbrock-Funktion Lösung"
   ]
  },
  {
   "cell_type": "code",
   "execution_count": 18,
   "metadata": {},
   "outputs": [],
   "source": [
    "class rosen:\n",
    "    def __init__(self,a,b):\n",
    "        self.a=a\n",
    "        self.b=b\n",
    "    def fun(self,x):\n",
    "        s=sum(self.b*(x[1:]-x[:-1]**2)**2+(self.a-x[:-1])**2)\n",
    "        return s"
   ]
  },
  {
   "cell_type": "code",
   "execution_count": 19,
   "metadata": {},
   "outputs": [
    {
     "name": "stdout",
     "output_type": "stream",
     "text": [
      "      fun: 5.770178893239271e-11\n",
      " hess_inv: array([[1.76887541e-03, 9.15841813e-04, 4.63700295e-04, 3.10525025e-04,\n",
      "        2.00540180e-04, 7.14743571e-05, 2.15587254e-04, 3.81914392e-04,\n",
      "        7.54621528e-04, 1.60860114e-03],\n",
      "       [9.15841813e-04, 1.85848575e-03, 1.01710309e-03, 6.00551579e-04,\n",
      "        4.37698902e-04, 4.47806831e-04, 9.18869532e-04, 1.73410037e-03,\n",
      "        3.40798287e-03, 6.84055608e-03],\n",
      "       [4.63700295e-04, 1.01710309e-03, 1.87844777e-03, 1.11029663e-03,\n",
      "        9.18450778e-04, 1.07677932e-03, 1.76822313e-03, 3.53982637e-03,\n",
      "        6.90331666e-03, 1.37049265e-02],\n",
      "       [3.10525025e-04, 6.00551579e-04, 1.11029663e-03, 2.09433479e-03,\n",
      "        1.67536609e-03, 1.91743255e-03, 3.03901935e-03, 5.98989940e-03,\n",
      "        1.17555967e-02, 2.33607051e-02],\n",
      "       [2.00540180e-04, 4.37698902e-04, 9.18450778e-04, 1.67536609e-03,\n",
      "        3.26763350e-03, 3.80598847e-03, 6.13742794e-03, 1.19928775e-02,\n",
      "        2.35307676e-02, 4.67842920e-02],\n",
      "       [7.14743571e-05, 4.47806831e-04, 1.07677932e-03, 1.91743255e-03,\n",
      "        3.80598847e-03, 7.63042960e-03, 1.25521160e-02, 2.41035886e-02,\n",
      "        4.75117165e-02, 9.46332261e-02],\n",
      "       [2.15587254e-04, 9.18869532e-04, 1.76822313e-03, 3.03901935e-03,\n",
      "        6.13742794e-03, 1.25521160e-02, 2.48960485e-02, 4.75299462e-02,\n",
      "        9.37812525e-02, 1.86923974e-01],\n",
      "       [3.81914392e-04, 1.73410037e-03, 3.53982637e-03, 5.98989940e-03,\n",
      "        1.19928775e-02, 2.41035886e-02, 4.75299462e-02, 9.60728515e-02,\n",
      "        1.89385253e-01, 3.77241080e-01],\n",
      "       [7.54621528e-04, 3.40798287e-03, 6.90331666e-03, 1.17555967e-02,\n",
      "        2.35307676e-02, 4.75117165e-02, 9.37812525e-02, 1.89385253e-01,\n",
      "        3.78406828e-01, 7.53912737e-01],\n",
      "       [1.60860114e-03, 6.84055608e-03, 1.37049265e-02, 2.33607051e-02,\n",
      "        4.67842920e-02, 9.46332261e-02, 1.86923974e-01, 3.77241080e-01,\n",
      "        7.53912737e-01, 1.50713522e+00]])\n",
      "      jac: array([-3.17219348e-06,  5.70735578e-06, -3.39317932e-06,  5.33969548e-06,\n",
      "       -5.57671056e-06,  8.24907631e-07,  8.20349667e-06, -9.73125807e-06,\n",
      "        1.45431291e-05, -5.59164535e-06])\n",
      "  message: 'Desired error not necessarily achieved due to precision loss.'\n",
      "     nfev: 1524\n",
      "      nit: 63\n",
      "     njev: 126\n",
      "   status: 2\n",
      "  success: False\n",
      "        x: array([0.99999995, 0.99999993, 0.99999987, 0.99999977, 0.99999956,\n",
      "       0.99999916, 0.99999836, 0.99999672, 0.99999348, 0.99998692])\n"
     ]
    }
   ],
   "source": [
    "import numpy as np\n",
    "import scipy.optimize as opt\n",
    "#import rosen\n",
    "\n",
    "x0=0.1*np.arange(10)\n",
    "#r = rosen.rosen(1,100)\n",
    "r=rosen(1,100)\n",
    "o=opt.minimize(r.fun,x0)\n",
    "print(o)"
   ]
  },
  {
   "cell_type": "markdown",
   "metadata": {},
   "source": [
    "## Lineare Algebra mit scipy.linalg\n",
    "Das Modul `scipy.linalg` bietet unter anderem folgende Funktionen: \n",
    "\n",
    "- `pinv(A)`, `inv(A)` -- (pseudo) Inverse\n",
    "- `det(A)` -- Determinante\n",
    "- `norm(A)` -- Matrix oder Vektornorm\n",
    "- `solve(A,b)` -- Löse $Ax=b$\n",
    "- `lstsq(A,b)` -- Least-Squares Lösung von $Ax=b$\n",
    "- `eigvals(A)` -- Eigenwerte\n",
    "- Zerlegungen:\n",
    "    - `lu`, `lu_solve` --  LU-Zerlegung und Löser\n",
    "    - `cholesky`, `cho_solve` -- Cholesky-Zerlegung und Löser\n",
    "    - `qr` -- QR-Zerlegung\n",
    " \n",
    " \n",
    "Ein/Ausgabe mit scipy.io: \n",
    "`scipy.io` arbeit mit Matlab `.mat` Dateien \n",
    "- `loadmat(file,name)` -- Lade eine `.mat`\n",
    "- `savemat(file,mdict)` -- Speichere eine `.mat`\n",
    "- `whosmat(file)`\n",
    "\n",
    "Ein/Ausgabe mit speziellen Bibliotheken: \n",
    "- `pandas`\n",
    "- `scipy.io`\n"
   ]
  },
  {
   "cell_type": "code",
   "execution_count": 20,
   "metadata": {},
   "outputs": [
    {
     "name": "stdout",
     "output_type": "stream",
     "text": [
      "[ 5.11411054+0.j          0.97891934+0.j          0.40554827+0.53183853j\n",
      "  0.40554827-0.53183853j  0.49235844+0.j         -0.30633624+0.40363414j\n",
      " -0.30633624-0.40363414j -0.65642233+0.j         -0.49756406+0.j\n",
      " -0.02588919+0.j        ]\n"
     ]
    }
   ],
   "source": [
    "import numpy as np\n",
    "import scipy.linalg as la\n",
    "a=np.random.rand(100).reshape(10,10)\n",
    "print(la.eigvals(a))"
   ]
  },
  {
   "cell_type": "markdown",
   "metadata": {},
   "source": [
    "## Plotting mit Matplotlib\n",
    "\n",
    "Zum Plotten von Daten kann man die Matplotlib benutzen  \n",
    "- `matplotlib.pyplot` Sammlung von Funktionen\n",
    "- Ähnlich Matlab Plot Interface\n",
    "- In Jupyter Notebook nutzbar\n",
    "- Bietet Funktionen zum speicher in Dateien\n"
   ]
  },
  {
   "cell_type": "code",
   "execution_count": 21,
   "metadata": {},
   "outputs": [
    {
     "data": {
      "text/plain": [
       "<Figure size 640x480 with 1 Axes>"
      ]
     },
     "metadata": {},
     "output_type": "display_data"
    }
   ],
   "source": [
    "import matplotlib.pyplot as plt\n",
    "import numpy as np\n",
    "x = np.linspace(0, 10,10000)\n",
    "y1 = np.sin(x)\n",
    "y2 = np.cos(x)\n",
    "plt.plot(x, y1)\n",
    "plt.plot(x, y2)\n",
    "plt.xlabel('x')\n",
    "plt.ylabel('y')\n",
    "plt.show() \n"
   ]
  },
  {
   "cell_type": "code",
   "execution_count": 22,
   "metadata": {},
   "outputs": [
    {
     "name": "stdout",
     "output_type": "stream",
     "text": [
      "Optimization terminated successfully.    (Exit mode 0)\n",
      "            Current function value: 4.9241712927242105\n",
      "            Iterations: 5\n",
      "            Function evaluations: 16\n",
      "            Gradient evaluations: 5\n",
      "[0.1454962]\n"
     ]
    },
    {
     "data": {
      "image/png": "[encoded data removed]",
      "text/plain": [
       "<Figure size 432x288 with 1 Axes>"
      ]
     },
     "metadata": {
      "needs_background": "light"
     },
     "output_type": "display_data"
    }
   ],
   "source": [
    "import numpy as np\n",
    "import scipy.optimize as opt\n",
    "import matplotlib.pyplot as plt\n",
    "def fun(x,args):\n",
    "    [a,b,c,d]=args\n",
    "    return a*x**3+b*x**2+c*x+d\n",
    "\n",
    "def constraint(x):\n",
    "    return -4*x*x+5\n",
    "\n",
    "def nul(x):\n",
    "    ret=np.zeros(x.size)\n",
    "    return ret\n",
    "\n",
    "x0=0\n",
    "args=([2,3,-1,5])\n",
    "o=opt.minimize(fun,x0,args, method='SLSQP',\n",
    "               constraints=[{'type':'ineq','fun':constraint}],\n",
    "               options={'ftol': 1e-9,'disp': True})\n",
    "print(o.x)\n",
    "x=np.linspace(-3,2,1000)\n",
    "plt.plot(x,fun(x,args))\n",
    "plt.plot(x,constraint(x))\n",
    "plt.plot(x,nul(x))\n",
    "plt.show()"
   ]
  },
  {
   "cell_type": "markdown",
   "metadata": {},
   "source": [
    "# Bonus- Aufgabe: \n",
    "## Plotten Sie die Rosenbrockfunktion (2D)\n",
    "\n",
    "$fun(x)=\\sum_{i=1}^{N-1}\\left[b(x_{i+1}-x_i^2)^2+(a-x_i)^2\\right]$\n",
    "\n",
    "also: \n",
    "\n",
    "$fun(x_0, x_1)= b(x_1-x_0^2)^2+(a-x_0)^2$\n",
    "\n",
    "mit $a=1$, $b=100$  \n",
    "im Bereich $-1.5 < x_0 < 2.0$ und $-0.5 < x_1 < 3.0$\n",
    "\n",
    "Hints: https://www.cc.gatech.edu/classes/AY2015/cs2316_fall/codesamples/rosenbrock_demo.py"
   ]
  },
  {
   "cell_type": "code",
   "execution_count": 23,
   "metadata": {},
   "outputs": [],
   "source": [
    "class rosen2D:\n",
    "    def __init__(self,a,b):\n",
    "        self.a=a\n",
    "        self.b=b\n",
    "    def fun(self,x):\n",
    "        s=sum(self.b*(x[1]-x[0]**2)**2+(self.a-x[0])**2)\n",
    "        return s"
   ]
  },
  {
   "cell_type": "code",
   "execution_count": 24,
   "metadata": {
    "scrolled": true
   },
   "outputs": [
    {
     "data": {
      "image/png": "[encoded data removed]",
      "text/plain": [
       "<Figure size 432x288 with 2 Axes>"
      ]
     },
     "metadata": {
      "needs_background": "light"
     },
     "output_type": "display_data"
    }
   ],
   "source": [
    "from mpl_toolkits.mplot3d import Axes3D\n",
    "from matplotlib import cm\n",
    "from matplotlib.ticker import LinearLocator, FormatStrFormatter\n",
    "import matplotlib.pyplot as plot\n",
    "import numpy as np\n",
    "\n",
    "fig = plot.figure()\n",
    "ax = fig.gca(projection='3d')\n",
    "\n",
    "s = 0.05   # Try s=1, 0.25, 0.1, or 0.05\n",
    "X = np.arange(-2, 2.+s, s)   #Could use linspace instead if dividing\n",
    "Y = np.arange(-2, 3.+s, s)   #evenly instead of stepping...\n",
    "    \n",
    "#Create the mesh grid(s) for all X/Y combos.\n",
    "X, Y = np.meshgrid(X, Y)\n",
    "\n",
    "#Rosenbrock function w/ two parameters using numpy Arrays\n",
    "Z = (1.-X)**2 + 100.*(Y-X*X)**2\n",
    "\n",
    "surf = ax.plot_surface(X, Y, Z, rstride=1, cstride=1, cmap=cm.coolwarm,\n",
    "         linewidth=0, antialiased=False)  #Try coolwarm vs jet\n",
    "\n",
    " \n",
    "ax.zaxis.set_major_locator(LinearLocator(10))\n",
    "ax.zaxis.set_major_formatter(FormatStrFormatter('%.02f'))\n",
    "\n",
    "fig.colorbar(surf, shrink=0.5, aspect=5)\n",
    "\n",
    "#Displays the figure, handles user interface, returns when user closes window\n",
    "plot.show()"
   ]
  },
  {
   "cell_type": "markdown",
   "metadata": {},
   "source": [
    "## Alternative Solution"
   ]
  },
  {
   "cell_type": "code",
   "execution_count": 25,
   "metadata": {},
   "outputs": [
    {
     "name": "stdout",
     "output_type": "stream",
     "text": [
      "Optimization terminated successfully.\n",
      "         Current function value: 0.000000\n",
      "         Iterations: 22\n",
      "         Function evaluations: 112\n",
      "         Gradient evaluations: 28\n",
      "[0.99999551 0.99999102] 2.012067235503378e-11\n"
     ]
    }
   ],
   "source": [
    "import numpy  as np\n",
    "import scipy.optimize as opt\n",
    "class Rosenbrock:\n",
    "   def __init__(self,a,b):\n",
    "      self.a=a\n",
    "      self.b=b\n",
    "   def fun(self,x):\n",
    "      s=sum(self.b*(x[1:]-x[:-1]**2)**2+(self.a-x[:-1])**2)\n",
    "      return s\n",
    "\n",
    "x=0.1*np.arange(2)\n",
    "rosen=Rosenbrock(1,100)\n",
    "o=opt.minimize(rosen.fun,x,options={'disp':True})\n",
    "print(o.x, o.fun)\n"
   ]
  },
  {
   "cell_type": "code",
   "execution_count": 26,
   "metadata": {},
   "outputs": [
    {
     "name": "stdout",
     "output_type": "stream",
     "text": [
      "[0.99999995 0.99999993 0.99999987 0.99999977 0.99999956 0.99999916\n",
      " 0.99999836 0.99999672 0.99999348 0.99998692]\n"
     ]
    }
   ],
   "source": [
    "import numpy as np\n",
    "import scipy.optimize as opt\n",
    "import rosen\n",
    "\n",
    "x=0.1*np.arange(10)\n",
    "r=rosen.rosen(1,100)\n",
    "o=opt.minimize(r.fun,x)\n",
    "print(o.x)"
   ]
  },
  {
   "cell_type": "code",
   "execution_count": 27,
   "metadata": {},
   "outputs": [
    {
     "name": "stdout",
     "output_type": "stream",
     "text": [
      "76.56\n",
      "76.56\n"
     ]
    }
   ],
   "source": [
    "import numpy as np\n",
    "from scipy.optimize import rosen\n",
    "x=0.1*np.arange(10)\n",
    "s=sum(100.0*(x[1:]-x[:-1]**2)**2+(1-x[:-1])**2)\n",
    "print (rosen(x))\n",
    "print(s)"
   ]
  },
  {
   "cell_type": "code",
   "execution_count": 28,
   "metadata": {},
   "outputs": [
    {
     "data": {
      "image/png": "[encoded data removed]",
      "text/plain": [
       "<Figure size 432x288 with 2 Axes>"
      ]
     },
     "metadata": {
      "needs_background": "light"
     },
     "output_type": "display_data"
    }
   ],
   "source": [
    "from mpl_toolkits.mplot3d import Axes3D \n",
    "import matplotlib.pyplot as plt\n",
    "from matplotlib import cm\n",
    "from matplotlib.ticker import LinearLocator, FormatStrFormatter\n",
    "import rosen\n",
    "import numpy as np\n",
    "import scipy.optimize as opt\n",
    "\n",
    "fig = plt.figure()\n",
    "ax = fig.gca(projection='3d')\n",
    "\n",
    "r=rosen.rosen(1,100)\n",
    "x=np.linspace(-2,2,100)\n",
    "y=np.linspace(-2,2,100)\n",
    "x,y = np.meshgrid(x,y)\n",
    "z=np.zeros((100,100))\n",
    "for i,g in enumerate(x):\n",
    "    for j,f in enumerate(y):\n",
    "        z[i,j]=r.fun(np.array([x[i,j],y[i,j]]))\n",
    "surf=ax.plot_surface(x,y,z)\n",
    "\n",
    "\n",
    "# Add a color bar which maps values to colors.\n",
    "fig.colorbar(surf, shrink=0.5, aspect=5)\n",
    "plt.show()"
   ]
  },
  {
   "cell_type": "code",
   "execution_count": 29,
   "metadata": {},
   "outputs": [
    {
     "data": {
      "image/png": "[encoded data removed]",
      "text/plain": [
       "<Figure size 432x288 with 2 Axes>"
      ]
     },
     "metadata": {
      "needs_background": "light"
     },
     "output_type": "display_data"
    }
   ],
   "source": [
    "from mpl_toolkits.mplot3d import Axes3D \n",
    "import matplotlib.pyplot as plt\n",
    "from matplotlib import cm\n",
    "from matplotlib.ticker import LinearLocator, FormatStrFormatter\n",
    "import numpy as np\n",
    "\n",
    "\n",
    "fig = plt.figure()\n",
    "ax = fig.gca(projection='3d')\n",
    "\n",
    "# Make data.\n",
    "X = np.arange(-5, 5, 0.25)\n",
    "Y = np.arange(-5, 5, 0.25)\n",
    "X, Y = np.meshgrid(X, Y)\n",
    "R = np.sqrt(X**2 + Y**2)\n",
    "Z = np.sin(R)\n",
    "\n",
    "# Plot the surface.\n",
    "surf = ax.plot_surface(X, Y, Z, cmap=cm.coolwarm,\n",
    "                       linewidth=0, antialiased=False)\n",
    "\n",
    "# Customize the z axis.\n",
    "ax.set_zlim(-1.01, 1.01)\n",
    "ax.zaxis.set_major_locator(LinearLocator(10))\n",
    "ax.zaxis.set_major_formatter(FormatStrFormatter('%.02f'))\n",
    "\n",
    "# Add a color bar which maps values to colors.\n",
    "fig.colorbar(surf, shrink=0.5, aspect=5)\n",
    "\n",
    "plt.show()"
   ]
  },
  {
   "cell_type": "code",
   "execution_count": null,
   "metadata": {},
   "outputs": [],
   "source": []
  },
  {
   "cell_type": "code",
   "execution_count": null,
   "metadata": {},
   "outputs": [],
   "source": []
  }
 ],
 "metadata": {
  "kernelspec": {
   "display_name": "Python 3",
   "language": "python",
   "name": "python3"
  },
  "language_info": {
   "codemirror_mode": {
    "name": "ipython",
    "version": 3
   },
   "file_extension": ".py",
   "mimetype": "text/x-python",
   "name": "python",
   "nbconvert_exporter": "python",
   "pygments_lexer": "ipython3",
   "version": "3.7.3"
  }
 },
 "nbformat": 4,
 "nbformat_minor": 2
}
