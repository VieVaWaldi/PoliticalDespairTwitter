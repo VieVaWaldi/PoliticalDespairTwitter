{
 "cells": [
  {
   "attachments": {},
   "cell_type": "markdown",
   "metadata": {},
   "source": [
    "## Data Sanitizing\n",
    "\n",
    "Used for the data obtained from the data scraper in scrape_twitter.sh with the courtesy of GetOldTweets3 repository\n",
    "\n",
    "Take the old file, make a new file. 1 line should contain: date, time, text, hashtags, @annotations. The text has to be made into lower capital, without links or emoticons, and all words must be utf recognized\n",
    "  \n",
    "Input: tweets from the data scrapper\n",
    "  \n",
    "Output: Date, Time, Text, Hashtags, @annotations in CSV format"
   ]
  },
  {
   "cell_type": "code",
   "execution_count": null,
   "metadata": {},
   "outputs": [],
   "source": []
  }
 ],
 "metadata": {
  "kernelspec": {
   "display_name": "Python 3",
   "language": "python",
   "name": "python3"
  },
  "language_info": {
   "name": "python",
   "version": "3.10.6 (main, Nov 14 2022, 16:10:14) [GCC 11.3.0]"
  },
  "orig_nbformat": 4,
  "vscode": {
   "interpreter": {
    "hash": "e7370f93d1d0cde622a1f8e1c04877d8463912d04d973331ad4851f04de6915a"
   }
  }
 },
 "nbformat": 4,
 "nbformat_minor": 2
}
